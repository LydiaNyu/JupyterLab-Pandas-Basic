{
 "cells": [
  {
   "cell_type": "markdown",
   "metadata": {},
   "source": [
    "My data set was documented in the previous assignment （homework02)"
   ]
  },
  {
   "cell_type": "code",
   "execution_count": 1,
   "metadata": {},
   "outputs": [
    {
     "name": "stdout",
     "output_type": "stream",
     "text": [
      "<class 'pandas.core.frame.DataFrame'>\n",
      "RangeIndex: 1000 entries, 0 to 999\n",
      "Data columns (total 11 columns):\n",
      " #   Column                Non-Null Count  Dtype \n",
      "---  ------                --------------  ----- \n",
      " 0   Channel               1000 non-null   object\n",
      " 1   Watch time(Minutes)   1000 non-null   int64 \n",
      " 2   Stream time(minutes)  1000 non-null   int64 \n",
      " 3   Peak viewers          1000 non-null   int64 \n",
      " 4   Average viewers       1000 non-null   int64 \n",
      " 5   Followers             1000 non-null   int64 \n",
      " 6   Followers gained      1000 non-null   int64 \n",
      " 7   Views gained          1000 non-null   int64 \n",
      " 8   Partnered             1000 non-null   bool  \n",
      " 9   Mature                1000 non-null   bool  \n",
      " 10  Language              1000 non-null   object\n",
      "dtypes: bool(2), int64(7), object(2)\n",
      "memory usage: 72.4+ KB\n"
     ]
    }
   ],
   "source": [
    "import pandas as pd\n",
    "df = pd.read_csv('../data/raw/twitchdata-update.csv')\n",
    "df.info()"
   ]
  },
  {
   "cell_type": "markdown",
   "metadata": {},
   "source": [
    "The following is to transform 'Language' column"
   ]
  },
  {
   "cell_type": "code",
   "execution_count": 2,
   "metadata": {},
   "outputs": [
    {
     "data": {
      "text/plain": [
       "0         English\n",
       "1         English\n",
       "2      Portuguese\n",
       "3         English\n",
       "4         English\n",
       "          ...    \n",
       "995       Spanish\n",
       "996        Korean\n",
       "997        Korean\n",
       "998       English\n",
       "999        French\n",
       "Name: Language, Length: 1000, dtype: object"
      ]
     },
     "execution_count": 2,
     "metadata": {},
     "output_type": "execute_result"
    }
   ],
   "source": [
    "df['Language'] = df['Language'].str.replace('\\n','')\n",
    "df['Language']"
   ]
  },
  {
   "cell_type": "markdown",
   "metadata": {},
   "source": [
    "The following is to caculate value-counts"
   ]
  },
  {
   "cell_type": "code",
   "execution_count": 3,
   "metadata": {},
   "outputs": [
    {
     "data": {
      "text/plain": [
       "English       485\n",
       "Korean         77\n",
       "Russian        74\n",
       "Spanish        68\n",
       "French         66\n",
       "Portuguese     61\n",
       "German         49\n",
       "Chinese        30\n",
       "Turkish        22\n",
       "Italian        17\n",
       "Polish         12\n",
       "Thai           11\n",
       "Japanese       10\n",
       "Czech           6\n",
       "Arabic          5\n",
       "Hungarian       2\n",
       "Greek           1\n",
       "Finnish         1\n",
       "Slovak          1\n",
       "Swedish         1\n",
       "Other           1\n",
       "Name: Language, dtype: int64"
      ]
     },
     "execution_count": 3,
     "metadata": {},
     "output_type": "execute_result"
    }
   ],
   "source": [
    "df['Language'].value_counts()"
   ]
  },
  {
   "cell_type": "markdown",
   "metadata": {},
   "source": [
    "The Following is to create of a visualiztion, which displays the number of usage for each lanuages."
   ]
  },
  {
   "cell_type": "code",
   "execution_count": 4,
   "metadata": {},
   "outputs": [
    {
     "data": {
      "text/plain": [
       "<AxesSubplot:>"
      ]
     },
     "execution_count": 4,
     "metadata": {},
     "output_type": "execute_result"
    },
    {
     "data": {
      "image/png": "[encoded data removed]",
      "text/plain": [
       "<Figure size 432x288 with 1 Axes>"
      ]
     },
     "metadata": {
      "needs_background": "light"
     },
     "output_type": "display_data"
    }
   ],
   "source": [
    "LanguageCount = df['Language'].value_counts()\n",
    "LanguageCount.plot(kind=\"bar\")"
   ]
  },
  {
   "cell_type": "markdown",
   "metadata": {},
   "source": [
    "The following is to calculate summary statistics for 'Stream time(minutes)' column"
   ]
  },
  {
   "cell_type": "code",
   "execution_count": 5,
   "metadata": {},
   "outputs": [
    {
     "data": {
      "text/plain": [
       "count      1000.000000\n",
       "mean     120515.160000\n",
       "std       85376.201364\n",
       "min        3465.000000\n",
       "25%       73758.750000\n",
       "50%      108240.000000\n",
       "75%      141843.750000\n",
       "max      521445.000000\n",
       "Name: Stream time(minutes), dtype: float64"
      ]
     },
     "execution_count": 5,
     "metadata": {},
     "output_type": "execute_result"
    }
   ],
   "source": [
    "df['Stream time(minutes)'].describe()"
   ]
  },
  {
   "cell_type": "markdown",
   "metadata": {},
   "source": [
    "The following is to calculate summary statistics for 'Watch time(Minutes)' column"
   ]
  },
  {
   "cell_type": "code",
   "execution_count": 6,
   "metadata": {},
   "outputs": [
    {
     "data": {
      "text/plain": [
       "count    1.000000e+03\n",
       "mean     4.184279e+08\n",
       "std      5.496355e+08\n",
       "min      1.221928e+08\n",
       "25%      1.631899e+08\n",
       "50%      2.349908e+08\n",
       "75%      4.337399e+08\n",
       "max      6.196162e+09\n",
       "Name: Watch time(Minutes), dtype: float64"
      ]
     },
     "execution_count": 6,
     "metadata": {},
     "output_type": "execute_result"
    }
   ],
   "source": [
    "df['Watch time(Minutes)'].describe()"
   ]
  },
  {
   "cell_type": "code",
   "execution_count": null,
   "metadata": {},
   "outputs": [],
   "source": []
  }
 ],
 "metadata": {
  "kernelspec": {
   "display_name": "Python 3",
   "language": "python",
   "name": "python3"
  },
  "language_info": {
   "codemirror_mode": {
    "name": "ipython",
    "version": 3
   },
   "file_extension": ".py",
   "mimetype": "text/x-python",
   "name": "python",
   "nbconvert_exporter": "python",
   "pygments_lexer": "ipython3",
   "version": "3.8.8"
  }
 },
 "nbformat": 4,
 "nbformat_minor": 4
}
